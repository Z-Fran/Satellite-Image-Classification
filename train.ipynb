{
 "cells": [
  {
   "cell_type": "markdown",
   "metadata": {},
   "source": [
    "# Train models on satellite image dataset"
   ]
  },
  {
   "cell_type": "code",
   "execution_count": 1,
   "metadata": {},
   "outputs": [],
   "source": [
    "import os\n",
    "import cv2\n",
    "import numpy as np\n",
    "\n",
    "import torch\n",
    "import torch.nn as nn\n",
    "import torch.optim as optim\n",
    "import torch.backends.cudnn as cudnn\n",
    "import torch.utils.data.dataset as Dataset\n",
    "\n",
    "from models import *"
   ]
  },
  {
   "cell_type": "markdown",
   "metadata": {},
   "source": [
    "## Load dataset"
   ]
  },
  {
   "cell_type": "markdown",
   "metadata": {},
   "source": [
    "load images data"
   ]
  },
  {
   "cell_type": "code",
   "execution_count": 2,
   "metadata": {},
   "outputs": [
    {
     "name": "stdout",
     "output_type": "stream",
     "text": [
      "(370, 3, 32, 32)\n"
     ]
    }
   ],
   "source": [
    "# get image file list from a directory\n",
    "def get_img_list(dir, firelist, ext=None):\n",
    "    newdir = dir\n",
    "    if os.path.isfile(dir):\n",
    "        if ext is None:\n",
    "            firelist.append(dir)\n",
    "        elif ext in dir[-3:]:\n",
    "            firelist.append(dir)\n",
    "    elif os.path.isdir(dir):\n",
    "        for s in os.listdir(dir):\n",
    "            newdir = os.path.join(dir, s)\n",
    "            get_img_list(newdir, firelist, ext)\n",
    "    return firelist\n",
    "\n",
    "industry=[]\n",
    "agriculture=[]\n",
    "residence=[]\n",
    "get_img_list(\"dataset/industry\",industry)\n",
    "get_img_list(\"dataset/agriculture\",agriculture)\n",
    "get_img_list(\"dataset/residence\",residence)\n",
    "\n",
    "X = []\n",
    "for i in industry:\n",
    "    img = cv2.imread(i)\n",
    "    img =cv2.resize(img,(32,32))\n",
    "    X.append(img)\n",
    "    \n",
    "for i in agriculture:\n",
    "    img = cv2.imread(i)\n",
    "    img =cv2.resize(img,(32,32))\n",
    "    oneD = img.reshape(img.size,1)\n",
    "    X.append(img)\n",
    "    \n",
    "for i in residence:\n",
    "    img = cv2.imread(i)\n",
    "    img =cv2.resize(img,(32,32))\n",
    "    oneD = img.reshape(img.size,1)\n",
    "    X.append(img)\n",
    "\n",
    "X = np.array(X)\n",
    "X = np.transpose(X, (0,3,1,2))\n",
    "print(X.shape)"
   ]
  },
  {
   "cell_type": "markdown",
   "metadata": {},
   "source": [
    "build labels\n",
    "- industry: 0\n",
    "- agriculture: 1\n",
    "- residence: 2"
   ]
  },
  {
   "cell_type": "code",
   "execution_count": 3,
   "metadata": {},
   "outputs": [
    {
     "name": "stdout",
     "output_type": "stream",
     "text": [
      "370\n"
     ]
    }
   ],
   "source": [
    "Y=[]\n",
    "for i in range(len(industry)):\n",
    "    Y.append(0)\n",
    "for i in range(len(agriculture)):\n",
    "    Y.append(1)\n",
    "for i in range(len(residence)):\n",
    "    Y.append(2)\n",
    "print(len(Y))"
   ]
  },
  {
   "cell_type": "code",
   "execution_count": 4,
   "metadata": {},
   "outputs": [],
   "source": [
    "# define dataset class\n",
    "class SatelliteDataset(Dataset.Dataset):\n",
    "    def __init__(self, Data, Label):\n",
    "        self.Data = Data\n",
    "        self.Label = torch.LongTensor(Label)\n",
    "    def __len__(self):\n",
    "        return len(self.Data)\n",
    "    def __getitem__(self, index):\n",
    "        data = torch.Tensor(self.Data[index])\n",
    "        label = self.Label[index]\n",
    "        return data, label\n",
    "\n",
    "# build dataset and dataloader\n",
    "Data = X\n",
    "Label = Y\n",
    "trainset = SatelliteDataset(Data, Label)\n",
    "trainloader = torch.utils.data.DataLoader(\n",
    "    trainset, batch_size=32, shuffle=True, num_workers=0)"
   ]
  },
  {
   "cell_type": "markdown",
   "metadata": {},
   "source": [
    "## Build model"
   ]
  },
  {
   "cell_type": "code",
   "execution_count": 10,
   "metadata": {},
   "outputs": [],
   "source": [
    "device = 'cuda' if torch.cuda.is_available() else 'cpu'\n",
    "\n",
    "# select a model\n",
    "net = ResNet18()\n",
    "# net = PreActResNet18()\n",
    "# net = GoogLeNet()\n",
    "# net = DenseNet121()\n",
    "# net = ResNeXt29_2x64d()\n",
    "# net = MobileNet()\n",
    "# net = MobileNetV2()\n",
    "# net = DPN92()\n",
    "# net = ShuffleNetG2()\n",
    "# net = SENet18()\n",
    "# net = ShuffleNetV2(1)\n",
    "# net = EfficientNetB0()\n",
    "# net = RegNetX_200MF()\n",
    "# net = SimpleDLA()\n",
    "# net = VGG('VGG19')\n",
    "\n",
    "net = net.to(device)\n",
    "if device == 'cuda':\n",
    "    net = torch.nn.DataParallel(net)\n",
    "    cudnn.benchmark = True"
   ]
  },
  {
   "cell_type": "markdown",
   "metadata": {},
   "source": [
    "## Loss function, optimizer adn scheduler"
   ]
  },
  {
   "cell_type": "code",
   "execution_count": 11,
   "metadata": {},
   "outputs": [],
   "source": [
    "criterion = nn.CrossEntropyLoss()\n",
    "optimizer = optim.SGD(net.parameters(), lr=0.1,\n",
    "                      momentum=0.9, weight_decay=5e-4)\n",
    "scheduler = torch.optim.lr_scheduler.CosineAnnealingLR(optimizer, T_max=200)"
   ]
  },
  {
   "cell_type": "markdown",
   "metadata": {},
   "source": [
    "## Train model"
   ]
  },
  {
   "cell_type": "code",
   "execution_count": 12,
   "metadata": {},
   "outputs": [
    {
     "name": "stdout",
     "output_type": "stream",
     "text": [
      "\n",
      "Epoch: 0\n",
      "Loss: 2.646 | Acc: 52.162% (193/370)\n",
      "\n",
      "Epoch: 1\n",
      "Loss: 3.640 | Acc: 58.919% (218/370)\n",
      "\n",
      "Epoch: 2\n",
      "Loss: 0.789 | Acc: 63.243% (234/370)\n",
      "\n",
      "Epoch: 3\n",
      "Loss: 2.064 | Acc: 68.919% (255/370)\n",
      "\n",
      "Epoch: 4\n",
      "Loss: 1.850 | Acc: 72.973% (270/370)\n",
      "\n",
      "Epoch: 5\n",
      "Loss: 0.848 | Acc: 72.432% (268/370)\n",
      "\n",
      "Epoch: 6\n",
      "Loss: 0.760 | Acc: 75.135% (278/370)\n",
      "\n",
      "Epoch: 7\n",
      "Loss: 1.162 | Acc: 78.649% (291/370)\n",
      "\n",
      "Epoch: 8\n",
      "Loss: 0.923 | Acc: 79.189% (293/370)\n",
      "\n",
      "Epoch: 9\n",
      "Loss: 0.604 | Acc: 83.243% (308/370)\n"
     ]
    }
   ],
   "source": [
    "def train(epoch):\n",
    "    print('\\nEpoch: %d' % epoch)\n",
    "    net.train()\n",
    "    train_loss = 0\n",
    "    correct = 0\n",
    "    total = 0\n",
    "    for batch_idx, (inputs, targets) in enumerate(trainloader):\n",
    "        inputs, targets = inputs.to(device), targets.to(device)\n",
    "        optimizer.zero_grad()\n",
    "        outputs = net(inputs)\n",
    "        loss = criterion(outputs, targets)\n",
    "        loss.backward()\n",
    "        optimizer.step()\n",
    "\n",
    "        train_loss += loss.item()\n",
    "        _, predicted = outputs.max(1)\n",
    "        total += targets.size(0)\n",
    "        correct += predicted.eq(targets).sum().item()\n",
    "\n",
    "    print('Loss: %.3f | Acc: %.3f%% (%d/%d)' % (train_loss/len(trainloader), 100.*correct/total, correct, total))\n",
    "\n",
    "    scheduler.step()\n",
    "\n",
    "for epoch in range(10):\n",
    "    train(epoch)\n"
   ]
  }
 ],
 "metadata": {
  "kernelspec": {
   "display_name": "nzmsa",
   "language": "python",
   "name": "python3"
  },
  "language_info": {
   "codemirror_mode": {
    "name": "ipython",
    "version": 3
   },
   "file_extension": ".py",
   "mimetype": "text/x-python",
   "name": "python",
   "nbconvert_exporter": "python",
   "pygments_lexer": "ipython3",
   "version": "3.9.0"
  }
 },
 "nbformat": 4,
 "nbformat_minor": 2
}
